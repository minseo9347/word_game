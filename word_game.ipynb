{
 "cells": [
  {
   "cell_type": "markdown",
   "metadata": {},
   "source": [
    "# pygame 모듈테스트\n"
   ]
  },
  {
   "cell_type": "markdown",
   "metadata": {},
   "source": []
  },
  {
   "cell_type": "code",
   "execution_count": 4,
   "metadata": {},
   "outputs": [],
   "source": [
    "from pygame import mixer\n",
    "mixer.init() # 미디어 파일 사용을 위한 초기화\n",
    "\n",
    "mixer.music.load(\"assets/good.wav\") # 소리 파일 위치 path\n",
    "mixer.music.play() # 소리가 들린다."
   ]
  },
  {
   "cell_type": "code",
   "execution_count": 5,
   "metadata": {},
   "outputs": [],
   "source": [
    "mixer.music.load(\"assets/bad.wav\") # 소리 파일 위치 path\n",
    "mixer.music.play() # 소리가 들린다."
   ]
  },
  {
   "cell_type": "code",
   "execution_count": null,
   "metadata": {},
   "outputs": [],
   "source": [
    "with open(\"data/word.txt\", \"r\",  encoding=\"utf-8\") as word:\n",
    "    w = list(word.read())\n",
    "    \n",
    "    \n",
    "    "
   ]
  },
  {
   "cell_type": "code",
   "execution_count": null,
   "metadata": {},
   "outputs": [],
   "source": [
    "with open(file_name, 'r') as csv_file:\n",
    "    datas = csv.reader(csv_file)\n",
    "    # print(datas)\n",
    "\n",
    "    # header 가공, 출력\n",
    "    # print(next(datas))\n",
    "    header = next(datas)\n",
    "    # print(header)\n",
    "    print(\" | \".join(header))\n",
    "\n",
    "    # 데이터 내용 가공, 출력\n",
    "    for i in datas:\n",
    "        # print(i)\n",
    "        print(\"\\t\".join(i))"
   ]
  }
 ],
 "metadata": {
  "kernelspec": {
   "display_name": "Python 3",
   "language": "python",
   "name": "python3"
  },
  "language_info": {
   "codemirror_mode": {
    "name": "ipython",
    "version": 3
   },
   "file_extension": ".py",
   "mimetype": "text/x-python",
   "name": "python",
   "nbconvert_exporter": "python",
   "pygments_lexer": "ipython3",
   "version": "3.12.8"
  }
 },
 "nbformat": 4,
 "nbformat_minor": 2
}
